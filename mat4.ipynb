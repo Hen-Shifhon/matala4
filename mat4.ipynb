{
 "cells": [
  {
   "cell_type": "markdown",
   "metadata": {},
   "source": [
    "<h1>matala 4-GoogleApis</h1>\n",
    "<h2>Hen Shifhon</h2>"
   ]
  },
  {
   "cell_type": "markdown",
   "metadata": {},
   "source": [
    "<h3> Reading the file </h3>"
   ]
  },
  {
   "cell_type": "code",
   "execution_count": null,
   "metadata": {},
   "outputs": [],
   "source": [
    "import json\n",
    "import requests\n",
    "import pprint \n",
    "import time\n",
    "\n",
    "dest=\"D:/python_ex/matala4/dests.txt\"\n",
    "file= open(dest,'r',encoding=('utf-8'))\n",
    "list_dest=file.readlines()\n",
    "file.close()\n",
    "\n",
    "distance_dict=dict()\n",
    "api_key=input(\"please enter api key to continue\")\n"
   ]
  },
  {
   "cell_type": "markdown",
   "metadata": {},
   "source": [
    "<h3> Create the dictionary </h3>"
   ]
  },
  {
   "cell_type": "code",
   "execution_count": 5,
   "metadata": {},
   "outputs": [
    {
     "name": "stdout",
     "output_type": "stream",
     "text": [
      "ERROR WITH CITY :איסטנבול\n",
      "\n",
      "ERROR WITH CITY :אמסטרדם\n",
      "\n",
      "ERROR WITH CITY :ולטה\n",
      "\n",
      "ERROR WITH CITY :בזל\n",
      "\n",
      "ERROR WITH CITY :קוטור\n",
      "\n",
      "{}\n",
      "\n"
     ]
    }
   ],
   "source": [
    "\n",
    "for dest in list_dest:\n",
    "    try:\n",
    "        dest=dest.strip()\n",
    "        url='https://maps.googleapis.com/maps/api/distancematrix/json?units=metric&origins=תל אביב&destinations=%s&key=%s' % (dest,api_key)\n",
    "        response = requests.get(url).json()\n",
    "        destination=response['destination_addresses'][0]\n",
    "        distance=((response['rows'][0]['elements'][0]['distance']['text']))\n",
    "        duration=time.strftime(\"%H:%M\" ,time.gmtime(response[\"rows\"][0][\"elements\"][0][\"duration\"][\"value\"]))\n",
    "        \n",
    "        url2=\"https://maps.googleapis.com/maps/api/geocode/json?address=%s&key=%s\" % (destination,api_key)\n",
    "        response2 = requests.get(url2).json()\n",
    "        lat=response2['results'][0]['geometry']['location']['lat']\n",
    "        lng=response2['results'][0]['geometry']['location']['lng']\n",
    "        tuple_cur_information=(\"distance: \"+distance,\"duration: \"+duration+\" hours\",\"lng: \"+str(lng),\"lat: \"+str(lat))\n",
    "        distance_dict[destination]=tuple_cur_information\n",
    "    except:\n",
    "        print(\"ERROR WITH CITY :\" +dest+\"\\n\")\n",
    "\n",
    "# הדפסת המילון\n",
    "pprint.pprint(distance_dict)\n",
    "print(\"\")\n",
    "\n",
    "\n",
    "     \n",
    "    "
   ]
  },
  {
   "cell_type": "markdown",
   "metadata": {},
   "source": [
    "<h3> The three most far cities </h3>"
   ]
  },
  {
   "cell_type": "code",
   "execution_count": 3,
   "metadata": {},
   "outputs": [
    {
     "name": "stdout",
     "output_type": "stream",
     "text": [
      "The three cities furthest from Tel Aviv are: \n",
      "\n",
      "City:Amsterdam, Netherlands. Distance: 4528.0\n",
      "City:Basel, Switzerland. Distance: 4093.0\n",
      "City:Valletta, Malta. Distance: 3795.0\n"
     ]
    }
   ],
   "source": [
    "\n",
    "# שלושת הערים הכי רחוקות\n",
    "\n",
    "far_in_km=list()\n",
    "for key in distance_dict:\n",
    "    index_space=distance_dict[key][0].find(\" \")+1\n",
    "    index_space2=distance_dict[key][0].find(\" \",index_space)\n",
    "    float_distance=distance_dict[key][0][index_space:index_space2]\n",
    "    if \",\" in float_distance:\n",
    "        float_distance =float(float_distance.replace(',' , \"\"))\n",
    "    else:\n",
    "        float_distance = float (float_distance)\n",
    "    cur_tuple=(key,float_distance)\n",
    "    far_in_km.append(cur_tuple)\n",
    "\n",
    "far_in_km.sort(key=lambda x:x[1] , reverse=True)\n",
    "print(\"The three cities furthest from Tel Aviv are: \\n\" ) \n",
    "for i in range(3):\n",
    "    print(\"City:\"+ str (far_in_km[i][0])+\". Distance: \" + str(far_in_km[i][1]))\n",
    "    \n",
    "\n",
    "\n"
   ]
  }
 ],
 "metadata": {
  "kernelspec": {
   "display_name": "Python 3",
   "language": "python",
   "name": "python3"
  },
  "language_info": {
   "codemirror_mode": {
    "name": "ipython",
    "version": 3
   },
   "file_extension": ".py",
   "mimetype": "text/x-python",
   "name": "python",
   "nbconvert_exporter": "python",
   "pygments_lexer": "ipython3",
   "version": "3.7.6"
  }
 },
 "nbformat": 4,
 "nbformat_minor": 4
}
